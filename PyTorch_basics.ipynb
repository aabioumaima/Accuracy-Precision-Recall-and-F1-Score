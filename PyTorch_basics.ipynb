{
  "nbformat": 4,
  "nbformat_minor": 0,
  "metadata": {
    "colab": {
      "name": "PyTorch basics.ipynb",
      "provenance": [],
      "collapsed_sections": [],
      "authorship_tag": "ABX9TyPfoPgG7APMzwXFrFU94SxT",
      "include_colab_link": true
    },
    "kernelspec": {
      "name": "python3",
      "display_name": "Python 3"
    },
    "language_info": {
      "name": "python"
    }
  },
  "cells": [
    {
      "cell_type": "markdown",
      "metadata": {
        "id": "view-in-github",
        "colab_type": "text"
      },
      "source": [
        "<a href=\"https://colab.research.google.com/github/aabioumaima/Accuracy-Precision-Recall-and-F1-Score/blob/main/PyTorch_basics.ipynb\" target=\"_parent\"><img src=\"https://colab.research.google.com/assets/colab-badge.svg\" alt=\"Open In Colab\"/></a>"
      ]
    },
    {
      "cell_type": "markdown",
      "source": [
        "* PyTorch Basic : "
      ],
      "metadata": {
        "id": "8IIexllSFO-g"
      }
    },
    {
      "cell_type": "code",
      "execution_count": null,
      "metadata": {
        "colab": {
          "base_uri": "https://localhost:8080/"
        },
        "id": "rLkZezgW8gN4",
        "outputId": "685e1d7b-0330-4b31-ee98-e4058690262d"
      },
      "outputs": [
        {
          "output_type": "stream",
          "name": "stdout",
          "text": [
            "dy/dx tensor(2.)\n",
            "dy/dw tensor(1.)\n",
            "dy/db tensor(1.)\n"
          ]
        }
      ],
      "source": [
        "import torch\n",
        "import torch.nn as nn\n",
        "\n",
        "#basic autograd example1:\n",
        "x = torch.tensor(1., requires_grad = True)\n",
        "w = torch.tensor(2., requires_grad = True)\n",
        "b = torch.tensor(3., requires_grad = True)\n",
        "\n",
        "y = w * x + b # y = 2 * x + 3\n",
        "\n",
        "#Compute gradients.\n",
        "y.backward()\n",
        "\n",
        "print('dy/dx', x.grad) #x.grad = 2\n",
        "print('dy/dw', w.grad) #w.grad = 1\n",
        "print('dy/db', b.grad) #b.grad = 1"
      ]
    },
    {
      "cell_type": "code",
      "source": [
        "#basic autograd example2:\n",
        "\n",
        "#Create tensors of shape (10, 3) and (10, 2)\n",
        "x = torch.randn(10, 3)\n",
        "y = torch.randn(10, 2)\n",
        "\n",
        "#Building a fully connected layer (FCL)\n",
        "linear = nn.Linear(3, 2)\n",
        "print('w: ', linear.weight)\n",
        "print('b: ', linear.bias)\n",
        "\n",
        "#Build loss function and optimizer\n",
        "criterion = nn.MSELoss()\n",
        "optimizer = torch.optim.SGD(linear.parameters(), lr = 0.01)\n",
        "\n",
        "#Forward pass.\n",
        "pred = linear(x)\n",
        "\n",
        "#Compute loss.\n",
        "loss = criterion(pred, y)\n",
        "print('loss: ', loss.item())\n",
        "\n",
        "#Backward pass.\n",
        "loss.backward()\n",
        "\n",
        "#Print out the gradients.\n",
        "print('dL/dw: ', linear.weight.grad)\n",
        "print('dL/db: ', linear.bias.grad)\n",
        "\n",
        "#1-step gradient descent.\n",
        "optimizer.step()\n",
        "\n",
        "#Print out the loss after 1-step gradient descent.\n",
        "pred = linear(x)\n",
        "loss = criterion(pred, y)\n",
        "print('loss after 1 step optimization: ', loss.item())"
      ],
      "metadata": {
        "colab": {
          "base_uri": "https://localhost:8080/"
        },
        "id": "CjwkSDv79K1V",
        "outputId": "4083b4de-3280-4731-d3d2-80b196566e0d"
      },
      "execution_count": null,
      "outputs": [
        {
          "output_type": "stream",
          "name": "stdout",
          "text": [
            "w:  Parameter containing:\n",
            "tensor([[ 0.1128, -0.2006, -0.1201],\n",
            "        [ 0.4623,  0.4148,  0.3334]], requires_grad=True)\n",
            "b:  Parameter containing:\n",
            "tensor([-0.2395,  0.5171], requires_grad=True)\n",
            "loss:  1.2087687253952026\n",
            "dL/dw:  tensor([[-0.3132, -0.0970, -0.1137],\n",
            "        [ 1.0768,  0.4647,  0.4242]])\n",
            "dL/db:  tensor([-0.2912,  0.7350])\n",
            "loss after 1 step optimization:  1.1859595775604248\n"
          ]
        }
      ]
    },
    {
      "cell_type": "markdown",
      "source": [
        "* Linear Regression: "
      ],
      "metadata": {
        "id": "2tUzFs0NFVto"
      }
    },
    {
      "cell_type": "code",
      "source": [
        "import numpy as np\n",
        "import torch"
      ],
      "metadata": {
        "id": "DdoWDk6tFfDk"
      },
      "execution_count": null,
      "outputs": []
    },
    {
      "cell_type": "code",
      "source": [
        "# Input (temp, rainfall, humidity)\n",
        "inputs = np.array([[73, 67, 43],\n",
        "                   [91, 88, 64],\n",
        "                   [87, 134, 58],\n",
        "                   [102, 43, 37],\n",
        "                   [69, 96, 70]], dtype = 'float32')"
      ],
      "metadata": {
        "id": "qdzvUwCkFhpr"
      },
      "execution_count": null,
      "outputs": []
    },
    {
      "cell_type": "code",
      "source": [
        "# Targets (apples, orange)\n",
        "targets = np.array([[56, 70],\n",
        "                   [81, 101],\n",
        "                   [119, 133],\n",
        "                   [22, 37],\n",
        "                   [103, 119]], dtype = 'float32')"
      ],
      "metadata": {
        "id": "svhbpouLF5K_"
      },
      "execution_count": null,
      "outputs": []
    },
    {
      "cell_type": "code",
      "source": [
        "#Converted to tensors\n",
        "inputs = torch.from_numpy(inputs)\n",
        "targets = torch.from_numpy(targets)\n",
        "print(inputs)\n",
        "print(targets)"
      ],
      "metadata": {
        "colab": {
          "base_uri": "https://localhost:8080/"
        },
        "id": "n_sP2aLbGNEL",
        "outputId": "8a55c3d7-d439-4081-c088-4a6cb0ab6d98"
      },
      "execution_count": null,
      "outputs": [
        {
          "output_type": "stream",
          "name": "stdout",
          "text": [
            "tensor([[ 73.,  67.,  43.],\n",
            "        [ 91.,  88.,  64.],\n",
            "        [ 87., 134.,  58.],\n",
            "        [102.,  43.,  37.],\n",
            "        [ 69.,  96.,  70.]])\n",
            "tensor([[ 56.,  70.],\n",
            "        [ 81., 101.],\n",
            "        [119., 133.],\n",
            "        [ 22.,  37.],\n",
            "        [103., 119.]])\n"
          ]
        }
      ]
    },
    {
      "cell_type": "markdown",
      "source": [
        "* Linear regression model from scratch:"
      ],
      "metadata": {
        "id": "CjSdTgUVGtaP"
      }
    },
    {
      "cell_type": "code",
      "source": [
        "#Weights and biases\n",
        "w = torch.randn(2, 3, requires_grad = True) #2 rows and 3 columns\n",
        "b = torch.randn(2, requires_grad = True) #2rows only\n",
        "print(w)\n",
        "print(b)"
      ],
      "metadata": {
        "colab": {
          "base_uri": "https://localhost:8080/"
        },
        "id": "Juibp4hEGxW_",
        "outputId": "16360c97-464d-4453-c213-1aceea007cb8"
      },
      "execution_count": null,
      "outputs": [
        {
          "output_type": "stream",
          "name": "stdout",
          "text": [
            "tensor([[-0.2985, -0.0514,  0.6771],\n",
            "        [-0.9323, -0.8078,  0.1610]], requires_grad=True)\n",
            "tensor([ 0.3345, -0.3533], requires_grad=True)\n"
          ]
        }
      ]
    },
    {
      "cell_type": "code",
      "source": [
        "def model(x):\n",
        "  return x @ w.t() + b "
      ],
      "metadata": {
        "id": "WvUcTjQuHNbm"
      },
      "execution_count": null,
      "outputs": []
    },
    {
      "cell_type": "code",
      "source": [
        "#Generate predictions\n",
        "preds = model(inputs)\n",
        "print(preds)"
      ],
      "metadata": {
        "colab": {
          "base_uri": "https://localhost:8080/"
        },
        "id": "KjQpocYlHV_1",
        "outputId": "c4ca0626-68c6-48c4-853d-8b618b9ddb7e"
      },
      "execution_count": null,
      "outputs": [
        {
          "output_type": "stream",
          "name": "stdout",
          "text": [
            "tensor([[   4.2188, -115.6115],\n",
            "        [  11.9865, -145.9757],\n",
            "        [   6.7529, -180.3719],\n",
            "        [  -7.2653, -124.2270],\n",
            "        [  22.2039, -130.9613]], grad_fn=<AddBackward0>)\n"
          ]
        }
      ]
    },
    {
      "cell_type": "code",
      "source": [
        "#Compare with targets\n",
        "print(targets)"
      ],
      "metadata": {
        "colab": {
          "base_uri": "https://localhost:8080/"
        },
        "id": "1KQp4rohICxc",
        "outputId": "62abb1d0-b075-4f27-93ff-fa8910208203"
      },
      "execution_count": null,
      "outputs": [
        {
          "output_type": "stream",
          "name": "stdout",
          "text": [
            "tensor([[ 56.,  70.],\n",
            "        [ 81., 101.],\n",
            "        [119., 133.],\n",
            "        [ 22.,  37.],\n",
            "        [103., 119.]])\n"
          ]
        }
      ]
    },
    {
      "cell_type": "markdown",
      "source": [
        "* Loss function :"
      ],
      "metadata": {
        "id": "9YzDZbJGItZC"
      }
    },
    {
      "cell_type": "code",
      "source": [
        "#MSE loss\n",
        "def mse(t1, t2):\n",
        "  diff = t1 - t2\n",
        "  return torch.sum(diff * diff) /diff.numel()"
      ],
      "metadata": {
        "id": "Y90O-4iEIQKj"
      },
      "execution_count": null,
      "outputs": []
    },
    {
      "cell_type": "code",
      "source": [
        "#Compute loss\n",
        "loss = mse(preds, targets)\n",
        "print(loss)"
      ],
      "metadata": {
        "colab": {
          "base_uri": "https://localhost:8080/"
        },
        "id": "Yb2haIJfIrgg",
        "outputId": "8d82b4dd-10dc-4e57-d9ff-dc456de4acf2"
      },
      "execution_count": null,
      "outputs": [
        {
          "output_type": "stream",
          "name": "stdout",
          "text": [
            "tensor(30955.3438, grad_fn=<DivBackward0>)\n"
          ]
        }
      ]
    },
    {
      "cell_type": "markdown",
      "source": [
        "* Compute gradients:"
      ],
      "metadata": {
        "id": "yiBMoT7iJDXl"
      }
    },
    {
      "cell_type": "code",
      "source": [
        "#Compute gradients\n",
        "loss.backward()"
      ],
      "metadata": {
        "id": "WB1bnny8Jiti"
      },
      "execution_count": null,
      "outputs": []
    },
    {
      "cell_type": "code",
      "source": [
        "#Gradients fro weights\n",
        "print(w)\n",
        "print(w.grad)\n"
      ],
      "metadata": {
        "colab": {
          "base_uri": "https://localhost:8080/"
        },
        "id": "4kiDVOWEJmut",
        "outputId": "c5ddcbe6-c2d6-4307-a3d6-b6f5afabb8fe"
      },
      "execution_count": null,
      "outputs": [
        {
          "output_type": "stream",
          "name": "stdout",
          "text": [
            "tensor([[-0.2985, -0.0514,  0.6771],\n",
            "        [-0.9323, -0.8078,  0.1610]], requires_grad=True)\n",
            "tensor([[ -5677.1484,  -6719.6934,  -3978.4656],\n",
            "        [-19396.0547, -21418.1426, -13085.2012]])\n"
          ]
        }
      ]
    },
    {
      "cell_type": "code",
      "source": [
        "with torch.no_grad():\n",
        "  w -= w.grad * 1e-5\n",
        "  b -= b.grad * 1e-5\n",
        "#1e-5: learning rate"
      ],
      "metadata": {
        "id": "YD62slUHJ24n"
      },
      "execution_count": null,
      "outputs": []
    },
    {
      "cell_type": "code",
      "source": [
        "# Let's verify that the loss is actually lower\n",
        "loss = mse(preds, targets)\n",
        "print(loss)"
      ],
      "metadata": {
        "colab": {
          "base_uri": "https://localhost:8080/"
        },
        "id": "W-ZgiXSYNmb8",
        "outputId": "cb06427b-219a-41f5-e24f-6651ae7f95d7"
      },
      "execution_count": null,
      "outputs": [
        {
          "output_type": "stream",
          "name": "stdout",
          "text": [
            "tensor(30955.3438, grad_fn=<DivBackward0>)\n"
          ]
        }
      ]
    },
    {
      "cell_type": "code",
      "source": [
        "#initialize the weitghts with zero\n",
        "w.grad.zero_()\n",
        "b.grad.zero_()\n",
        "print(w.grad)\n",
        "print(b.grad)"
      ],
      "metadata": {
        "colab": {
          "base_uri": "https://localhost:8080/"
        },
        "id": "gqOc6IDIOhWf",
        "outputId": "ea21c3c0-aeb8-4ff1-aeea-f010733092be"
      },
      "execution_count": null,
      "outputs": [
        {
          "output_type": "stream",
          "name": "stdout",
          "text": [
            "tensor([[0., 0., 0.],\n",
            "        [0., 0., 0.]])\n",
            "tensor([0., 0.])\n"
          ]
        }
      ]
    },
    {
      "cell_type": "markdown",
      "source": [
        "* Train the model using gradient descent"
      ],
      "metadata": {
        "id": "InQgPeCsPwpU"
      }
    },
    {
      "cell_type": "code",
      "source": [
        "# Generate predictions\n",
        "preds = model(inputs)\n",
        "print(preds)"
      ],
      "metadata": {
        "colab": {
          "base_uri": "https://localhost:8080/"
        },
        "id": "vmpG8oUXOuu2",
        "outputId": "988b326a-b7b9-4f19-e547-a998b296e8a0"
      },
      "execution_count": null,
      "outputs": [
        {
          "output_type": "stream",
          "name": "stdout",
          "text": [
            "tensor([[  14.5768,  -81.4733],\n",
            "        [  25.6129, -101.1005],\n",
            "        [  23.0046, -127.2053],\n",
            "        [   2.8875,  -90.3894],\n",
            "        [  35.3577,  -87.8547]], grad_fn=<AddBackward0>)\n"
          ]
        }
      ]
    },
    {
      "cell_type": "code",
      "source": [
        "#Calculate the loss\n",
        "loss = mse(preds, targets)\n",
        "print(loss)"
      ],
      "metadata": {
        "colab": {
          "base_uri": "https://localhost:8080/"
        },
        "id": "v92tm0rSQ30T",
        "outputId": "dc87c979-2cfa-4ad6-9959-d45dddcec7f1"
      },
      "execution_count": null,
      "outputs": [
        {
          "output_type": "stream",
          "name": "stdout",
          "text": [
            "tensor(20945.1973, grad_fn=<DivBackward0>)\n"
          ]
        }
      ]
    },
    {
      "cell_type": "code",
      "source": [
        "#Compute gradients\n",
        "loss.backward()\n",
        "print(w.grad)\n",
        "print(b.grad)"
      ],
      "metadata": {
        "colab": {
          "base_uri": "https://localhost:8080/"
        },
        "id": "AWmh8MhKRfzp",
        "outputId": "b0b32c63-cccc-4fc2-f0ee-c736dde32a71"
      },
      "execution_count": null,
      "outputs": [
        {
          "output_type": "stream",
          "name": "stdout",
          "text": [
            "tensor([[ -4606.5015,  -5565.6592,  -3267.1653],\n",
            "        [-15870.6494, -17627.3691, -10746.5850]])\n",
            "tensor([ -55.9121, -189.6046])\n"
          ]
        }
      ]
    },
    {
      "cell_type": "code",
      "source": [
        "#Adjusting the weights by substracting a samll quantity to the gradients\n",
        "with torch.no_grad():\n",
        "  w -= w.grad * 1e-5\n",
        "  b -= b.grad * 1e-5\n",
        "#Reset the gradient to zero\n",
        "  w = w.grad.zero_()\n",
        "  b = b.grad.zero_()"
      ],
      "metadata": {
        "id": "8blxCaS6Rhue"
      },
      "execution_count": null,
      "outputs": []
    },
    {
      "cell_type": "code",
      "source": [
        "print(w)\n",
        "print(b)\n",
        "\n",
        "#Caculate the loss\n",
        "preds = model(inputs)\n",
        "loss = mse(preds, targets)\n",
        "print(loss)"
      ],
      "metadata": {
        "colab": {
          "base_uri": "https://localhost:8080/"
        },
        "id": "ZmgrxH2cRpHA",
        "outputId": "ede8e648-ff1d-4a90-adcb-4f1427707927"
      },
      "execution_count": null,
      "outputs": [
        {
          "output_type": "stream",
          "name": "stdout",
          "text": [
            "tensor([[0., 0., 0.],\n",
            "        [0., 0., 0.]])\n",
            "tensor([0., 0.])\n",
            "tensor(8327.0996)\n"
          ]
        }
      ]
    },
    {
      "cell_type": "markdown",
      "source": [
        "* Train for multiple epochs"
      ],
      "metadata": {
        "id": "lZSdXpLISHlg"
      }
    },
    {
      "cell_type": "code",
      "source": [
        "# Train for 100 epochs\n",
        "w = torch.randn(2, 3, requires_grad = True) #2 rows and 3 columns\n",
        "b = torch.randn(2, requires_grad = True) #2rows only\n",
        "for i in range(100):\n",
        "    preds = model(inputs)\n",
        "    loss = mse(preds, targets)\n",
        "    loss.backward()\n",
        "    with torch.no_grad():\n",
        "        w -= w.grad * 1e-5\n",
        "        b -= b.grad * 1e-5\n",
        "        w.grad.zero_()\n",
        "        b.grad.zero_()"
      ],
      "metadata": {
        "id": "KNtX56c_Rqv_"
      },
      "execution_count": null,
      "outputs": []
    },
    {
      "cell_type": "code",
      "source": [
        "#Let's verify that the loss is lower\n",
        "#Calculate the loss\n",
        "preds = model(inputs)\n",
        "loss = mse(preds, targets)\n",
        "print(loss)"
      ],
      "metadata": {
        "colab": {
          "base_uri": "https://localhost:8080/"
        },
        "id": "QZD5a6eGSe_z",
        "outputId": "ed4f3fe6-67a8-4885-a229-cbe0a34476a8"
      },
      "execution_count": null,
      "outputs": [
        {
          "output_type": "stream",
          "name": "stdout",
          "text": [
            "tensor(1022.5233, grad_fn=<DivBackward0>)\n"
          ]
        }
      ]
    },
    {
      "cell_type": "code",
      "source": [
        "#Predictions\n",
        "preds"
      ],
      "metadata": {
        "colab": {
          "base_uri": "https://localhost:8080/"
        },
        "id": "6Ajelp84Tvsj",
        "outputId": "25473878-bda3-49c0-aa9d-772a4a6eeec8"
      },
      "execution_count": null,
      "outputs": [
        {
          "output_type": "execute_result",
          "data": {
            "text/plain": [
              "tensor([[ 59.3974,  83.7729],\n",
              "        [ 95.2506, 101.3531],\n",
              "        [ 85.4385, 109.7617],\n",
              "        [ 35.3429, 113.9009],\n",
              "        [116.2644,  75.5640]], grad_fn=<AddBackward0>)"
            ]
          },
          "metadata": {},
          "execution_count": 166
        }
      ]
    },
    {
      "cell_type": "code",
      "source": [
        "#Targets \n",
        "targets"
      ],
      "metadata": {
        "colab": {
          "base_uri": "https://localhost:8080/"
        },
        "id": "yWIy2XJQT0FZ",
        "outputId": "80726ecb-703e-47b4-cd38-600467c16346"
      },
      "execution_count": null,
      "outputs": [
        {
          "output_type": "execute_result",
          "data": {
            "text/plain": [
              "tensor([[ 56.,  70.],\n",
              "        [ 81., 101.],\n",
              "        [119., 133.],\n",
              "        [ 22.,  37.],\n",
              "        [103., 119.]])"
            ]
          },
          "metadata": {},
          "execution_count": 167
        }
      ]
    },
    {
      "cell_type": "markdown",
      "source": [
        "* Linear regression using PyTorch built-ins"
      ],
      "metadata": {
        "id": "Jd7P7z7QYRyC"
      }
    },
    {
      "cell_type": "code",
      "source": [
        "import torch.nn as nn"
      ],
      "metadata": {
        "id": "q_pAIaUzYQbj"
      },
      "execution_count": null,
      "outputs": []
    },
    {
      "cell_type": "code",
      "source": [
        "# Input (temp, rainfall, humidity)\n",
        "inputs = np.array([[73, 67, 43], \n",
        "                   [91, 88, 64], \n",
        "                   [87, 134, 58], \n",
        "                   [102, 43, 37], \n",
        "                   [69, 96, 70], \n",
        "                   [74, 66, 43], \n",
        "                   [91, 87, 65], \n",
        "                   [88, 134, 59], \n",
        "                   [101, 44, 37], \n",
        "                   [68, 96, 71], \n",
        "                   [73, 66, 44], \n",
        "                   [92, 87, 64], \n",
        "                   [87, 135, 57], \n",
        "                   [103, 43, 36], \n",
        "                   [68, 97, 70]], \n",
        "                  dtype='float32')\n",
        "\n",
        "# Targets (apples, oranges)\n",
        "targets = np.array([[56, 70], \n",
        "                    [81, 101], \n",
        "                    [119, 133], \n",
        "                    [22, 37], \n",
        "                    [103, 119],\n",
        "                    [57, 69], \n",
        "                    [80, 102], \n",
        "                    [118, 132], \n",
        "                    [21, 38], \n",
        "                    [104, 118], \n",
        "                    [57, 69], \n",
        "                    [82, 100], \n",
        "                    [118, 134], \n",
        "                    [20, 38], \n",
        "                    [102, 120]], \n",
        "                   dtype='float32')\n",
        "\n",
        "inputs = torch.from_numpy(inputs)\n",
        "targets = torch.from_numpy(targets)"
      ],
      "metadata": {
        "id": "9HSjiGUmYUeB"
      },
      "execution_count": null,
      "outputs": []
    },
    {
      "cell_type": "markdown",
      "source": [
        "* Dataset and DataLoader"
      ],
      "metadata": {
        "id": "jmg5vAjlYj4T"
      }
    },
    {
      "cell_type": "code",
      "source": [
        "from torch.utils.data import TensorDataset"
      ],
      "metadata": {
        "id": "hX-fBAsqYeOD"
      },
      "execution_count": null,
      "outputs": []
    },
    {
      "cell_type": "code",
      "source": [
        "# Define dataset\n",
        "train_ds = TensorDataset(inputs, targets)\n",
        "train_ds[0:3]"
      ],
      "metadata": {
        "colab": {
          "base_uri": "https://localhost:8080/"
        },
        "id": "2FK4iGwLYoJj",
        "outputId": "aaab7d09-46f5-480d-b0ce-3f38b0932fa2"
      },
      "execution_count": null,
      "outputs": [
        {
          "output_type": "execute_result",
          "data": {
            "text/plain": [
              "(tensor([[ 73.,  67.,  43.],\n",
              "         [ 91.,  88.,  64.],\n",
              "         [ 87., 134.,  58.]]), tensor([[ 56.,  70.],\n",
              "         [ 81., 101.],\n",
              "         [119., 133.]]))"
            ]
          },
          "metadata": {},
          "execution_count": 171
        }
      ]
    },
    {
      "cell_type": "code",
      "source": [
        "from torch.utils.data import DataLoader"
      ],
      "metadata": {
        "id": "F3c9HillY1ge"
      },
      "execution_count": null,
      "outputs": []
    },
    {
      "cell_type": "code",
      "source": [
        "# Define data loader \n",
        "batch_size = 5\n",
        "train_dl = DataLoader(train_ds, batch_size, shuffle = True)"
      ],
      "metadata": {
        "id": "a0DgP8MuY6J9"
      },
      "execution_count": null,
      "outputs": []
    },
    {
      "cell_type": "code",
      "source": [
        "for xb, yb  in train_dl:\n",
        "  print(xb)\n",
        "  print(yb)\n",
        "  break"
      ],
      "metadata": {
        "colab": {
          "base_uri": "https://localhost:8080/"
        },
        "id": "1QCCxUOOZC54",
        "outputId": "b1335065-38a4-4c7b-8762-2374c0501d82"
      },
      "execution_count": null,
      "outputs": [
        {
          "output_type": "stream",
          "name": "stdout",
          "text": [
            "tensor([[ 87., 135.,  57.],\n",
            "        [ 74.,  66.,  43.],\n",
            "        [ 73.,  66.,  44.],\n",
            "        [ 91.,  87.,  65.],\n",
            "        [ 91.,  88.,  64.]])\n",
            "tensor([[118., 134.],\n",
            "        [ 57.,  69.],\n",
            "        [ 57.,  69.],\n",
            "        [ 80., 102.],\n",
            "        [ 81., 101.]])\n"
          ]
        }
      ]
    },
    {
      "cell_type": "markdown",
      "source": [
        "* nn.Linear"
      ],
      "metadata": {
        "id": "ocVn2ln7ZVLE"
      }
    },
    {
      "cell_type": "code",
      "source": [
        "# Define model\n",
        "model = nn.Linear(3, 2)\n",
        "print(model.weight)\n",
        "print(model.bias)"
      ],
      "metadata": {
        "colab": {
          "base_uri": "https://localhost:8080/"
        },
        "id": "ir3cXBfsZJez",
        "outputId": "34c39685-2073-4bef-fd5f-ace215846f2a"
      },
      "execution_count": null,
      "outputs": [
        {
          "output_type": "stream",
          "name": "stdout",
          "text": [
            "Parameter containing:\n",
            "tensor([[ 0.1407,  0.3991, -0.4392],\n",
            "        [-0.0179, -0.3114, -0.1745]], requires_grad=True)\n",
            "Parameter containing:\n",
            "tensor([-0.3619, -0.5158], requires_grad=True)\n"
          ]
        }
      ]
    },
    {
      "cell_type": "code",
      "source": [
        "#Parameters (2eme methode)\n",
        "list(model.parameters())"
      ],
      "metadata": {
        "colab": {
          "base_uri": "https://localhost:8080/"
        },
        "id": "leYWVyuJZfG2",
        "outputId": "0d97792c-105e-4514-ef84-1c3f50d3d413"
      },
      "execution_count": null,
      "outputs": [
        {
          "output_type": "execute_result",
          "data": {
            "text/plain": [
              "[Parameter containing:\n",
              " tensor([[ 0.1407,  0.3991, -0.4392],\n",
              "         [-0.0179, -0.3114, -0.1745]], requires_grad=True),\n",
              " Parameter containing:\n",
              " tensor([-0.3619, -0.5158], requires_grad=True)]"
            ]
          },
          "metadata": {},
          "execution_count": 176
        }
      ]
    },
    {
      "cell_type": "code",
      "source": [
        "# Generate predictions\n",
        "preds = model(inputs)\n",
        "preds"
      ],
      "metadata": {
        "colab": {
          "base_uri": "https://localhost:8080/"
        },
        "id": "ycB12tF2Zi6V",
        "outputId": "3529ebc7-5705-46cf-94fb-d629c00404d1"
      },
      "execution_count": null,
      "outputs": [
        {
          "output_type": "execute_result",
          "data": {
            "text/plain": [
              "tensor([[ 17.7659, -30.1924],\n",
              "        [ 19.4571, -40.7193],\n",
              "        [ 39.8897, -53.9249],\n",
              "        [ 14.9022, -22.1918],\n",
              "        [ 16.9195, -43.8630],\n",
              "        [ 17.5074, -29.8990],\n",
              "        [ 18.6188, -40.5824],\n",
              "        [ 39.5912, -54.1174],\n",
              "        [ 15.1607, -22.4853],\n",
              "        [ 16.3396, -44.0196],\n",
              "        [ 16.9275, -30.0556],\n",
              "        [ 19.1987, -40.4258],\n",
              "        [ 40.7280, -54.0618],\n",
              "        [ 15.4822, -22.0352],\n",
              "        [ 17.1779, -44.1565]], grad_fn=<AddmmBackward0>)"
            ]
          },
          "metadata": {},
          "execution_count": 177
        }
      ]
    },
    {
      "cell_type": "markdown",
      "source": [
        "* Loss Function :"
      ],
      "metadata": {
        "id": "GepPkt2IaCmR"
      }
    },
    {
      "cell_type": "code",
      "source": [
        "import torch.nn.functional as F"
      ],
      "metadata": {
        "id": "9uGznn7XZ7-w"
      },
      "execution_count": null,
      "outputs": []
    },
    {
      "cell_type": "code",
      "source": [
        "# Define loss function\n",
        "loss_fn = F.mse_loss\n",
        "loss = loss_fn(model(inputs), targets)\n",
        "print(loss)"
      ],
      "metadata": {
        "colab": {
          "base_uri": "https://localhost:8080/"
        },
        "id": "2VsTRQaZaIGB",
        "outputId": "2c2234e3-1daa-47f2-d27f-ee303c5bc17c"
      },
      "execution_count": null,
      "outputs": [
        {
          "output_type": "stream",
          "name": "stdout",
          "text": [
            "tensor(11403.2998, grad_fn=<MseLossBackward0>)\n"
          ]
        }
      ]
    },
    {
      "cell_type": "markdown",
      "source": [
        "* Optimizer :"
      ],
      "metadata": {
        "id": "1DUrs0fOaUh2"
      }
    },
    {
      "cell_type": "code",
      "source": [
        "# Define optimizer\n",
        "opt = torch.optim.SGD(model.parameters(), lr = 1e-5)"
      ],
      "metadata": {
        "id": "fTFInHoMaS-r"
      },
      "execution_count": null,
      "outputs": []
    },
    {
      "cell_type": "markdown",
      "source": [
        "* Train the model :"
      ],
      "metadata": {
        "id": "V-Qako5mae18"
      }
    },
    {
      "cell_type": "code",
      "source": [
        "# Utility function to train the model\n",
        "def fit(num_epochs, model, loss_fn, opt, train_dl):\n",
        "    \n",
        "    # Repeat for given number of epochs\n",
        "    for epoch in range(num_epochs):\n",
        "        \n",
        "        # Train with batches of data\n",
        "        for xb,yb in train_dl:\n",
        "            \n",
        "            # 1. Generate predictions\n",
        "            pred = model(xb)\n",
        "            \n",
        "            # 2. Calculate loss\n",
        "            loss = loss_fn(pred, yb)\n",
        "            \n",
        "            # 3. Compute gradients\n",
        "            loss.backward()\n",
        "            \n",
        "            # 4. Update parameters using gradients\n",
        "            opt.step()\n",
        "            \n",
        "            # 5. Reset the gradients to zero\n",
        "            opt.zero_grad()\n",
        "        \n",
        "        # Print the progress\n",
        "        if (epoch+1) % 10 == 0:\n",
        "            print('Epoch [{}/{}], Loss: {:.4f}'.format(epoch+1, num_epochs, loss.item()))"
      ],
      "metadata": {
        "id": "qirSY3uDac0Z"
      },
      "execution_count": null,
      "outputs": []
    },
    {
      "cell_type": "code",
      "source": [
        "#Let's train the model for 100 epochs.\n",
        "\n",
        "fit(100, model, loss_fn, opt, train_dl)"
      ],
      "metadata": {
        "colab": {
          "base_uri": "https://localhost:8080/"
        },
        "id": "oZKFky6upo6v",
        "outputId": "9ab5160d-3226-49c5-c35f-9811439ed979"
      },
      "execution_count": null,
      "outputs": [
        {
          "output_type": "stream",
          "name": "stdout",
          "text": [
            "Epoch [10/100], Loss: 533.6547\n",
            "Epoch [20/100], Loss: 709.9498\n",
            "Epoch [30/100], Loss: 216.6245\n",
            "Epoch [40/100], Loss: 105.4170\n",
            "Epoch [50/100], Loss: 126.6201\n",
            "Epoch [60/100], Loss: 62.1300\n",
            "Epoch [70/100], Loss: 49.1495\n",
            "Epoch [80/100], Loss: 78.6843\n",
            "Epoch [90/100], Loss: 56.2037\n",
            "Epoch [100/100], Loss: 47.5937\n"
          ]
        }
      ]
    },
    {
      "cell_type": "code",
      "source": [
        "# Generate predictions\n",
        "preds = model(inputs)\n",
        "preds"
      ],
      "metadata": {
        "colab": {
          "base_uri": "https://localhost:8080/"
        },
        "id": "X7GMTYgCp16t",
        "outputId": "221c4091-588d-49bb-dac9-b4884cc1948e"
      },
      "execution_count": null,
      "outputs": [
        {
          "output_type": "execute_result",
          "data": {
            "text/plain": [
              "tensor([[ 58.3318,  71.8020],\n",
              "        [ 77.7300,  98.3056],\n",
              "        [125.7615, 135.7279],\n",
              "        [ 28.6653,  46.0151],\n",
              "        [ 89.7247, 109.6862],\n",
              "        [ 57.1365,  70.8586],\n",
              "        [ 76.7245,  97.8992],\n",
              "        [125.6283, 136.1121],\n",
              "        [ 29.8607,  46.9584],\n",
              "        [ 89.9146, 110.2232],\n",
              "        [ 57.3264,  71.3956],\n",
              "        [ 76.5346,  97.3622],\n",
              "        [126.7669, 136.1342],\n",
              "        [ 28.4754,  45.4780],\n",
              "        [ 90.9200, 110.6296]], grad_fn=<AddmmBackward0>)"
            ]
          },
          "metadata": {},
          "execution_count": 186
        }
      ]
    },
    {
      "cell_type": "code",
      "source": [
        "# Compare with targets\n",
        "targets"
      ],
      "metadata": {
        "colab": {
          "base_uri": "https://localhost:8080/"
        },
        "id": "PIehbaD3q4i_",
        "outputId": "b6b98c42-417a-4161-dcd4-36a011f64b8d"
      },
      "execution_count": null,
      "outputs": [
        {
          "output_type": "execute_result",
          "data": {
            "text/plain": [
              "tensor([[ 56.,  70.],\n",
              "        [ 81., 101.],\n",
              "        [119., 133.],\n",
              "        [ 22.,  37.],\n",
              "        [103., 119.],\n",
              "        [ 57.,  69.],\n",
              "        [ 80., 102.],\n",
              "        [118., 132.],\n",
              "        [ 21.,  38.],\n",
              "        [104., 118.],\n",
              "        [ 57.,  69.],\n",
              "        [ 82., 100.],\n",
              "        [118., 134.],\n",
              "        [ 20.,  38.],\n",
              "        [102., 120.]])"
            ]
          },
          "metadata": {},
          "execution_count": 187
        }
      ]
    },
    {
      "cell_type": "code",
      "source": [
        "model(torch.tensor([[75, 63, 44.]]))"
      ],
      "metadata": {
        "colab": {
          "base_uri": "https://localhost:8080/"
        },
        "id": "lIX14ghzq8WA",
        "outputId": "2a921cf9-eca3-44ef-88c6-eaf3cc57ddb1"
      },
      "execution_count": null,
      "outputs": [
        {
          "output_type": "execute_result",
          "data": {
            "text/plain": [
              "tensor([[53.9019, 68.6419]], grad_fn=<AddmmBackward0>)"
            ]
          },
          "metadata": {},
          "execution_count": 188
        }
      ]
    },
    {
      "cell_type": "markdown",
      "source": [
        ""
      ],
      "metadata": {
        "id": "WKUpuoEk74kb"
      }
    },
    {
      "cell_type": "code",
      "source": [
        "x = torch.randn(10, 3)\n",
        "y = torch.randn(10, 2)\n",
        "\n",
        "#Build a fullu connected layer\n",
        "model = nn.Linear(3, 2)\n",
        "\n",
        "#Weights and biases\n",
        "list(model.parameters())"
      ],
      "metadata": {
        "id": "cdX75jLz75Io"
      },
      "execution_count": null,
      "outputs": []
    },
    {
      "cell_type": "code",
      "source": [
        "#Generate predictions \n",
        "preds = model(x)\n",
        "preds"
      ],
      "metadata": {
        "id": "r7TxM7zK752A"
      },
      "execution_count": null,
      "outputs": []
    },
    {
      "cell_type": "code",
      "source": [
        "#Loss function\n",
        "loss_fn = F.mse_loss\n",
        "loss = loss_fn(preds, y)\n",
        "print(loss)"
      ],
      "metadata": {
        "id": "GU6rih8X77gh"
      },
      "execution_count": null,
      "outputs": []
    },
    {
      "cell_type": "code",
      "source": [
        "# Compute the gradient\n",
        "loss.backward()"
      ],
      "metadata": {
        "id": "D3Sl4sBE79Zy"
      },
      "execution_count": null,
      "outputs": []
    },
    {
      "cell_type": "code",
      "source": [
        "#Optimizer\n",
        "opt = torch.optim.SGD(model.parameters(), lr = 1e-5)"
      ],
      "metadata": {
        "id": "EgReaXyn7_Bv"
      },
      "execution_count": null,
      "outputs": []
    },
    {
      "cell_type": "code",
      "source": [
        "#Update the parameters using gradient\n",
        "opt.step()"
      ],
      "metadata": {
        "id": "vTslFXL78AjS"
      },
      "execution_count": null,
      "outputs": []
    },
    {
      "cell_type": "code",
      "source": [
        "  #Reset the gradients to zero\n",
        "opt.zero_grad()"
      ],
      "metadata": {
        "id": "qlqbghG18Cn_"
      },
      "execution_count": null,
      "outputs": []
    }
  ]
}