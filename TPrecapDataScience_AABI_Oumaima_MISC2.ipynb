{
  "nbformat": 4,
  "nbformat_minor": 0,
  "metadata": {
    "colab": {
      "name": "TPrecapDataScience_AABI_Oumaima_MISC2.ipynb",
      "provenance": [],
      "collapsed_sections": [],
      "include_colab_link": true
    },
    "kernelspec": {
      "name": "python3",
      "display_name": "Python 3"
    }
  },
  "cells": [
    {
      "cell_type": "markdown",
      "metadata": {
        "id": "view-in-github",
        "colab_type": "text"
      },
      "source": [
        "<a href=\"https://colab.research.google.com/github/aabioumaima/Accuracy-Precision-Recall-and-F1-Score/blob/main/TPrecapDataScience_AABI_Oumaima_MISC2.ipynb\" target=\"_parent\"><img src=\"https://colab.research.google.com/assets/colab-badge.svg\" alt=\"Open In Colab\"/></a>"
      ]
    },
    {
      "cell_type": "markdown",
      "source": [
        "**AABI Oumaima, MIASC2**"
      ],
      "metadata": {
        "id": "Bp2TVT_ix54-"
      }
    },
    {
      "cell_type": "markdown",
      "metadata": {
        "id": "qBObP0VrvvdK"
      },
      "source": [
        "**TP de Data Science ING3 Informatique EILCO**\n",
        "**Ce TP permet de tester votre capacité à avoir assimiler les élements de base de l'analyse de données par des techniques de data science ainsi que l'élaboration et le test d'un modèle prédictif utilisant les techniques de ML. Vous devez le réaliser  en individuel et le faire partager avec votre en enseignant en google drive pour la fin de la séance. **\n"
      ]
    },
    {
      "cell_type": "markdown",
      "metadata": {
        "id": "wbLzYeBQwh6u"
      },
      "source": [
        "1) En utilisant pandas récupérer,  dans un data frame, Récupérer le fichier csv se trouvant à l'adresse suivante : http://math.univ-lyon1.fr/~gciuperca/data_sommeil.csv.\n",
        "\n",
        "**Attention dans ce fichier le séparateur est un \";\" et non une \",\".**"
      ]
    },
    {
      "cell_type": "code",
      "metadata": {
        "id": "f_WWHYDK-R0Y"
      },
      "source": [
        "#Importer les librariries\n",
        "import pandas as pd\n",
        "from sklearn.naive_bayes import GaussianNB\n",
        "from sklearn.model_selection import train_test_split\n",
        "from sklearn.metrics import accuracy_score\n",
        "import sklearn.metrics as metrics\n",
        "from sklearn.metrics import confusion_matrix, classification_report\n",
        "import seaborn as sns\n",
        "import matplotlib.pyplot as plt\n",
        "%matplotlib inline\n",
        "from sklearn import svm\n",
        "import numpy as np"
      ],
      "execution_count": 116,
      "outputs": []
    },
    {
      "cell_type": "code",
      "metadata": {
        "id": "uZa4dJtQw5CU",
        "colab": {
          "base_uri": "https://localhost:8080/",
          "height": 206
        },
        "outputId": "a183f154-d229-4c89-c45b-b77f5db9ed18"
      },
      "source": [
        "df = pd.read_csv('http://math.univ-lyon1.fr/~gciuperca/data_sommeil.csv', sep = ';')\n",
        "df.head()"
      ],
      "execution_count": 117,
      "outputs": [
        {
          "output_type": "execute_result",
          "data": {
            "text/html": [
              "\n",
              "  <div id=\"df-36e0569f-557e-44c5-b627-29a1eb8700b5\">\n",
              "    <div class=\"colab-df-container\">\n",
              "      <div>\n",
              "<style scoped>\n",
              "    .dataframe tbody tr th:only-of-type {\n",
              "        vertical-align: middle;\n",
              "    }\n",
              "\n",
              "    .dataframe tbody tr th {\n",
              "        vertical-align: top;\n",
              "    }\n",
              "\n",
              "    .dataframe thead th {\n",
              "        text-align: right;\n",
              "    }\n",
              "</style>\n",
              "<table border=\"1\" class=\"dataframe\">\n",
              "  <thead>\n",
              "    <tr style=\"text-align: right;\">\n",
              "      <th></th>\n",
              "      <th>IDEN</th>\n",
              "      <th>AGE</th>\n",
              "      <th>POIDS</th>\n",
              "      <th>TAILLE</th>\n",
              "      <th>ALCOOL</th>\n",
              "      <th>SEXE</th>\n",
              "      <th>INSOMNIE</th>\n",
              "      <th>TABAC</th>\n",
              "      <th>ECRAN</th>\n",
              "    </tr>\n",
              "  </thead>\n",
              "  <tbody>\n",
              "    <tr>\n",
              "      <th>0</th>\n",
              "      <td>ID_001</td>\n",
              "      <td>47</td>\n",
              "      <td>71</td>\n",
              "      <td>158</td>\n",
              "      <td>0</td>\n",
              "      <td>0</td>\n",
              "      <td>0</td>\n",
              "      <td>1</td>\n",
              "      <td>0.50</td>\n",
              "    </tr>\n",
              "    <tr>\n",
              "      <th>1</th>\n",
              "      <td>ID_002</td>\n",
              "      <td>56</td>\n",
              "      <td>58</td>\n",
              "      <td>164</td>\n",
              "      <td>7</td>\n",
              "      <td>0</td>\n",
              "      <td>1</td>\n",
              "      <td>0</td>\n",
              "      <td>1.25</td>\n",
              "    </tr>\n",
              "    <tr>\n",
              "      <th>2</th>\n",
              "      <td>id_003</td>\n",
              "      <td>46</td>\n",
              "      <td>116</td>\n",
              "      <td>208</td>\n",
              "      <td>3</td>\n",
              "      <td>0</td>\n",
              "      <td>0</td>\n",
              "      <td>1</td>\n",
              "      <td>1.75</td>\n",
              "    </tr>\n",
              "    <tr>\n",
              "      <th>3</th>\n",
              "      <td>ID_004</td>\n",
              "      <td>70</td>\n",
              "      <td>96</td>\n",
              "      <td>186</td>\n",
              "      <td>3</td>\n",
              "      <td>0</td>\n",
              "      <td>0</td>\n",
              "      <td>1</td>\n",
              "      <td>1.00</td>\n",
              "    </tr>\n",
              "    <tr>\n",
              "      <th>4</th>\n",
              "      <td>ID_005</td>\n",
              "      <td>51</td>\n",
              "      <td>91</td>\n",
              "      <td>195</td>\n",
              "      <td>2</td>\n",
              "      <td>0</td>\n",
              "      <td>1</td>\n",
              "      <td>1</td>\n",
              "      <td>1.75</td>\n",
              "    </tr>\n",
              "  </tbody>\n",
              "</table>\n",
              "</div>\n",
              "      <button class=\"colab-df-convert\" onclick=\"convertToInteractive('df-36e0569f-557e-44c5-b627-29a1eb8700b5')\"\n",
              "              title=\"Convert this dataframe to an interactive table.\"\n",
              "              style=\"display:none;\">\n",
              "        \n",
              "  <svg xmlns=\"http://www.w3.org/2000/svg\" height=\"24px\"viewBox=\"0 0 24 24\"\n",
              "       width=\"24px\">\n",
              "    <path d=\"M0 0h24v24H0V0z\" fill=\"none\"/>\n",
              "    <path d=\"M18.56 5.44l.94 2.06.94-2.06 2.06-.94-2.06-.94-.94-2.06-.94 2.06-2.06.94zm-11 1L8.5 8.5l.94-2.06 2.06-.94-2.06-.94L8.5 2.5l-.94 2.06-2.06.94zm10 10l.94 2.06.94-2.06 2.06-.94-2.06-.94-.94-2.06-.94 2.06-2.06.94z\"/><path d=\"M17.41 7.96l-1.37-1.37c-.4-.4-.92-.59-1.43-.59-.52 0-1.04.2-1.43.59L10.3 9.45l-7.72 7.72c-.78.78-.78 2.05 0 2.83L4 21.41c.39.39.9.59 1.41.59.51 0 1.02-.2 1.41-.59l7.78-7.78 2.81-2.81c.8-.78.8-2.07 0-2.86zM5.41 20L4 18.59l7.72-7.72 1.47 1.35L5.41 20z\"/>\n",
              "  </svg>\n",
              "      </button>\n",
              "      \n",
              "  <style>\n",
              "    .colab-df-container {\n",
              "      display:flex;\n",
              "      flex-wrap:wrap;\n",
              "      gap: 12px;\n",
              "    }\n",
              "\n",
              "    .colab-df-convert {\n",
              "      background-color: #E8F0FE;\n",
              "      border: none;\n",
              "      border-radius: 50%;\n",
              "      cursor: pointer;\n",
              "      display: none;\n",
              "      fill: #1967D2;\n",
              "      height: 32px;\n",
              "      padding: 0 0 0 0;\n",
              "      width: 32px;\n",
              "    }\n",
              "\n",
              "    .colab-df-convert:hover {\n",
              "      background-color: #E2EBFA;\n",
              "      box-shadow: 0px 1px 2px rgba(60, 64, 67, 0.3), 0px 1px 3px 1px rgba(60, 64, 67, 0.15);\n",
              "      fill: #174EA6;\n",
              "    }\n",
              "\n",
              "    [theme=dark] .colab-df-convert {\n",
              "      background-color: #3B4455;\n",
              "      fill: #D2E3FC;\n",
              "    }\n",
              "\n",
              "    [theme=dark] .colab-df-convert:hover {\n",
              "      background-color: #434B5C;\n",
              "      box-shadow: 0px 1px 3px 1px rgba(0, 0, 0, 0.15);\n",
              "      filter: drop-shadow(0px 1px 2px rgba(0, 0, 0, 0.3));\n",
              "      fill: #FFFFFF;\n",
              "    }\n",
              "  </style>\n",
              "\n",
              "      <script>\n",
              "        const buttonEl =\n",
              "          document.querySelector('#df-36e0569f-557e-44c5-b627-29a1eb8700b5 button.colab-df-convert');\n",
              "        buttonEl.style.display =\n",
              "          google.colab.kernel.accessAllowed ? 'block' : 'none';\n",
              "\n",
              "        async function convertToInteractive(key) {\n",
              "          const element = document.querySelector('#df-36e0569f-557e-44c5-b627-29a1eb8700b5');\n",
              "          const dataTable =\n",
              "            await google.colab.kernel.invokeFunction('convertToInteractive',\n",
              "                                                     [key], {});\n",
              "          if (!dataTable) return;\n",
              "\n",
              "          const docLinkHtml = 'Like what you see? Visit the ' +\n",
              "            '<a target=\"_blank\" href=https://colab.research.google.com/notebooks/data_table.ipynb>data table notebook</a>'\n",
              "            + ' to learn more about interactive tables.';\n",
              "          element.innerHTML = '';\n",
              "          dataTable['output_type'] = 'display_data';\n",
              "          await google.colab.output.renderOutput(dataTable, element);\n",
              "          const docLink = document.createElement('div');\n",
              "          docLink.innerHTML = docLinkHtml;\n",
              "          element.appendChild(docLink);\n",
              "        }\n",
              "      </script>\n",
              "    </div>\n",
              "  </div>\n",
              "  "
            ],
            "text/plain": [
              "     IDEN  AGE  POIDS  TAILLE  ALCOOL  SEXE  INSOMNIE  TABAC  ECRAN\n",
              "0  ID_001   47     71     158       0     0         0      1   0.50\n",
              "1  ID_002   56     58     164       7     0         1      0   1.25\n",
              "2  id_003   46    116     208       3     0         0      1   1.75\n",
              "3  ID_004   70     96     186       3     0         0      1   1.00\n",
              "4  ID_005   51     91     195       2     0         1      1   1.75"
            ]
          },
          "metadata": {},
          "execution_count": 117
        }
      ]
    },
    {
      "cell_type": "markdown",
      "metadata": {
        "id": "htiFVJoYxn9P"
      },
      "source": [
        "2) Afficher les 20 premières lignes du data frame "
      ]
    },
    {
      "cell_type": "code",
      "metadata": {
        "id": "Z9iSXuzhxvhC",
        "colab": {
          "base_uri": "https://localhost:8080/",
          "height": 677
        },
        "outputId": "71a51765-01fc-41b5-c68d-9256fcef036e"
      },
      "source": [
        "df.head(20)"
      ],
      "execution_count": 118,
      "outputs": [
        {
          "output_type": "execute_result",
          "data": {
            "text/html": [
              "\n",
              "  <div id=\"df-4f7a3af3-d621-4eb3-912c-00c12f4dab20\">\n",
              "    <div class=\"colab-df-container\">\n",
              "      <div>\n",
              "<style scoped>\n",
              "    .dataframe tbody tr th:only-of-type {\n",
              "        vertical-align: middle;\n",
              "    }\n",
              "\n",
              "    .dataframe tbody tr th {\n",
              "        vertical-align: top;\n",
              "    }\n",
              "\n",
              "    .dataframe thead th {\n",
              "        text-align: right;\n",
              "    }\n",
              "</style>\n",
              "<table border=\"1\" class=\"dataframe\">\n",
              "  <thead>\n",
              "    <tr style=\"text-align: right;\">\n",
              "      <th></th>\n",
              "      <th>IDEN</th>\n",
              "      <th>AGE</th>\n",
              "      <th>POIDS</th>\n",
              "      <th>TAILLE</th>\n",
              "      <th>ALCOOL</th>\n",
              "      <th>SEXE</th>\n",
              "      <th>INSOMNIE</th>\n",
              "      <th>TABAC</th>\n",
              "      <th>ECRAN</th>\n",
              "    </tr>\n",
              "  </thead>\n",
              "  <tbody>\n",
              "    <tr>\n",
              "      <th>0</th>\n",
              "      <td>ID_001</td>\n",
              "      <td>47</td>\n",
              "      <td>71</td>\n",
              "      <td>158</td>\n",
              "      <td>0</td>\n",
              "      <td>0</td>\n",
              "      <td>0</td>\n",
              "      <td>1</td>\n",
              "      <td>0.50</td>\n",
              "    </tr>\n",
              "    <tr>\n",
              "      <th>1</th>\n",
              "      <td>ID_002</td>\n",
              "      <td>56</td>\n",
              "      <td>58</td>\n",
              "      <td>164</td>\n",
              "      <td>7</td>\n",
              "      <td>0</td>\n",
              "      <td>1</td>\n",
              "      <td>0</td>\n",
              "      <td>1.25</td>\n",
              "    </tr>\n",
              "    <tr>\n",
              "      <th>2</th>\n",
              "      <td>id_003</td>\n",
              "      <td>46</td>\n",
              "      <td>116</td>\n",
              "      <td>208</td>\n",
              "      <td>3</td>\n",
              "      <td>0</td>\n",
              "      <td>0</td>\n",
              "      <td>1</td>\n",
              "      <td>1.75</td>\n",
              "    </tr>\n",
              "    <tr>\n",
              "      <th>3</th>\n",
              "      <td>ID_004</td>\n",
              "      <td>70</td>\n",
              "      <td>96</td>\n",
              "      <td>186</td>\n",
              "      <td>3</td>\n",
              "      <td>0</td>\n",
              "      <td>0</td>\n",
              "      <td>1</td>\n",
              "      <td>1.00</td>\n",
              "    </tr>\n",
              "    <tr>\n",
              "      <th>4</th>\n",
              "      <td>ID_005</td>\n",
              "      <td>51</td>\n",
              "      <td>91</td>\n",
              "      <td>195</td>\n",
              "      <td>2</td>\n",
              "      <td>0</td>\n",
              "      <td>1</td>\n",
              "      <td>1</td>\n",
              "      <td>1.75</td>\n",
              "    </tr>\n",
              "    <tr>\n",
              "      <th>5</th>\n",
              "      <td>ID_006</td>\n",
              "      <td>46</td>\n",
              "      <td>98</td>\n",
              "      <td>188</td>\n",
              "      <td>0</td>\n",
              "      <td>1</td>\n",
              "      <td>0</td>\n",
              "      <td>0</td>\n",
              "      <td>3.25</td>\n",
              "    </tr>\n",
              "    <tr>\n",
              "      <th>6</th>\n",
              "      <td>ID_007</td>\n",
              "      <td>40</td>\n",
              "      <td>112</td>\n",
              "      <td>193</td>\n",
              "      <td>5</td>\n",
              "      <td>0</td>\n",
              "      <td>0</td>\n",
              "      <td>1</td>\n",
              "      <td>3.75</td>\n",
              "    </tr>\n",
              "    <tr>\n",
              "      <th>7</th>\n",
              "      <td>id_008</td>\n",
              "      <td>46</td>\n",
              "      <td>77</td>\n",
              "      <td>165</td>\n",
              "      <td>0</td>\n",
              "      <td>1</td>\n",
              "      <td>0</td>\n",
              "      <td>0</td>\n",
              "      <td>1.25</td>\n",
              "    </tr>\n",
              "    <tr>\n",
              "      <th>8</th>\n",
              "      <td>ID_009</td>\n",
              "      <td>49</td>\n",
              "      <td>76</td>\n",
              "      <td>164</td>\n",
              "      <td>0</td>\n",
              "      <td>0</td>\n",
              "      <td>0</td>\n",
              "      <td>0</td>\n",
              "      <td>0.75</td>\n",
              "    </tr>\n",
              "    <tr>\n",
              "      <th>9</th>\n",
              "      <td>ID_010</td>\n",
              "      <td>39</td>\n",
              "      <td>119</td>\n",
              "      <td>196</td>\n",
              "      <td>3</td>\n",
              "      <td>0</td>\n",
              "      <td>0</td>\n",
              "      <td>0</td>\n",
              "      <td>0.75</td>\n",
              "    </tr>\n",
              "    <tr>\n",
              "      <th>10</th>\n",
              "      <td>ID_011</td>\n",
              "      <td>37</td>\n",
              "      <td>99</td>\n",
              "      <td>189</td>\n",
              "      <td>4</td>\n",
              "      <td>0</td>\n",
              "      <td>0</td>\n",
              "      <td>1</td>\n",
              "      <td>0.75</td>\n",
              "    </tr>\n",
              "    <tr>\n",
              "      <th>11</th>\n",
              "      <td>ID_012</td>\n",
              "      <td>41</td>\n",
              "      <td>117</td>\n",
              "      <td>194</td>\n",
              "      <td>8</td>\n",
              "      <td>0</td>\n",
              "      <td>0</td>\n",
              "      <td>1</td>\n",
              "      <td>1.25</td>\n",
              "    </tr>\n",
              "    <tr>\n",
              "      <th>12</th>\n",
              "      <td>ID_013</td>\n",
              "      <td>56</td>\n",
              "      <td>83</td>\n",
              "      <td>171</td>\n",
              "      <td>2</td>\n",
              "      <td>0</td>\n",
              "      <td>0</td>\n",
              "      <td>1</td>\n",
              "      <td>1.75</td>\n",
              "    </tr>\n",
              "    <tr>\n",
              "      <th>13</th>\n",
              "      <td>ID_014</td>\n",
              "      <td>62</td>\n",
              "      <td>68</td>\n",
              "      <td>165</td>\n",
              "      <td>4</td>\n",
              "      <td>0</td>\n",
              "      <td>0</td>\n",
              "      <td>1</td>\n",
              "      <td>1.75</td>\n",
              "    </tr>\n",
              "    <tr>\n",
              "      <th>14</th>\n",
              "      <td>ID_015</td>\n",
              "      <td>50</td>\n",
              "      <td>108</td>\n",
              "      <td>194</td>\n",
              "      <td>10</td>\n",
              "      <td>0</td>\n",
              "      <td>0</td>\n",
              "      <td>1</td>\n",
              "      <td>2.25</td>\n",
              "    </tr>\n",
              "    <tr>\n",
              "      <th>15</th>\n",
              "      <td>ID_016</td>\n",
              "      <td>33</td>\n",
              "      <td>98</td>\n",
              "      <td>188</td>\n",
              "      <td>0</td>\n",
              "      <td>1</td>\n",
              "      <td>0</td>\n",
              "      <td>1</td>\n",
              "      <td>2.75</td>\n",
              "    </tr>\n",
              "    <tr>\n",
              "      <th>16</th>\n",
              "      <td>ID_017</td>\n",
              "      <td>61</td>\n",
              "      <td>85</td>\n",
              "      <td>174</td>\n",
              "      <td>1</td>\n",
              "      <td>0</td>\n",
              "      <td>0</td>\n",
              "      <td>0</td>\n",
              "      <td>3.75</td>\n",
              "    </tr>\n",
              "    <tr>\n",
              "      <th>17</th>\n",
              "      <td>ID_018</td>\n",
              "      <td>55</td>\n",
              "      <td>83</td>\n",
              "      <td>171</td>\n",
              "      <td>10</td>\n",
              "      <td>0</td>\n",
              "      <td>0</td>\n",
              "      <td>1</td>\n",
              "      <td>3.25</td>\n",
              "    </tr>\n",
              "    <tr>\n",
              "      <th>18</th>\n",
              "      <td>ID_019</td>\n",
              "      <td>34</td>\n",
              "      <td>92</td>\n",
              "      <td>181</td>\n",
              "      <td>0</td>\n",
              "      <td>1</td>\n",
              "      <td>0</td>\n",
              "      <td>1</td>\n",
              "      <td>0.75</td>\n",
              "    </tr>\n",
              "    <tr>\n",
              "      <th>19</th>\n",
              "      <td>ID_020</td>\n",
              "      <td>59</td>\n",
              "      <td>97</td>\n",
              "      <td>187</td>\n",
              "      <td>0</td>\n",
              "      <td>1</td>\n",
              "      <td>0</td>\n",
              "      <td>0</td>\n",
              "      <td>0.75</td>\n",
              "    </tr>\n",
              "  </tbody>\n",
              "</table>\n",
              "</div>\n",
              "      <button class=\"colab-df-convert\" onclick=\"convertToInteractive('df-4f7a3af3-d621-4eb3-912c-00c12f4dab20')\"\n",
              "              title=\"Convert this dataframe to an interactive table.\"\n",
              "              style=\"display:none;\">\n",
              "        \n",
              "  <svg xmlns=\"http://www.w3.org/2000/svg\" height=\"24px\"viewBox=\"0 0 24 24\"\n",
              "       width=\"24px\">\n",
              "    <path d=\"M0 0h24v24H0V0z\" fill=\"none\"/>\n",
              "    <path d=\"M18.56 5.44l.94 2.06.94-2.06 2.06-.94-2.06-.94-.94-2.06-.94 2.06-2.06.94zm-11 1L8.5 8.5l.94-2.06 2.06-.94-2.06-.94L8.5 2.5l-.94 2.06-2.06.94zm10 10l.94 2.06.94-2.06 2.06-.94-2.06-.94-.94-2.06-.94 2.06-2.06.94z\"/><path d=\"M17.41 7.96l-1.37-1.37c-.4-.4-.92-.59-1.43-.59-.52 0-1.04.2-1.43.59L10.3 9.45l-7.72 7.72c-.78.78-.78 2.05 0 2.83L4 21.41c.39.39.9.59 1.41.59.51 0 1.02-.2 1.41-.59l7.78-7.78 2.81-2.81c.8-.78.8-2.07 0-2.86zM5.41 20L4 18.59l7.72-7.72 1.47 1.35L5.41 20z\"/>\n",
              "  </svg>\n",
              "      </button>\n",
              "      \n",
              "  <style>\n",
              "    .colab-df-container {\n",
              "      display:flex;\n",
              "      flex-wrap:wrap;\n",
              "      gap: 12px;\n",
              "    }\n",
              "\n",
              "    .colab-df-convert {\n",
              "      background-color: #E8F0FE;\n",
              "      border: none;\n",
              "      border-radius: 50%;\n",
              "      cursor: pointer;\n",
              "      display: none;\n",
              "      fill: #1967D2;\n",
              "      height: 32px;\n",
              "      padding: 0 0 0 0;\n",
              "      width: 32px;\n",
              "    }\n",
              "\n",
              "    .colab-df-convert:hover {\n",
              "      background-color: #E2EBFA;\n",
              "      box-shadow: 0px 1px 2px rgba(60, 64, 67, 0.3), 0px 1px 3px 1px rgba(60, 64, 67, 0.15);\n",
              "      fill: #174EA6;\n",
              "    }\n",
              "\n",
              "    [theme=dark] .colab-df-convert {\n",
              "      background-color: #3B4455;\n",
              "      fill: #D2E3FC;\n",
              "    }\n",
              "\n",
              "    [theme=dark] .colab-df-convert:hover {\n",
              "      background-color: #434B5C;\n",
              "      box-shadow: 0px 1px 3px 1px rgba(0, 0, 0, 0.15);\n",
              "      filter: drop-shadow(0px 1px 2px rgba(0, 0, 0, 0.3));\n",
              "      fill: #FFFFFF;\n",
              "    }\n",
              "  </style>\n",
              "\n",
              "      <script>\n",
              "        const buttonEl =\n",
              "          document.querySelector('#df-4f7a3af3-d621-4eb3-912c-00c12f4dab20 button.colab-df-convert');\n",
              "        buttonEl.style.display =\n",
              "          google.colab.kernel.accessAllowed ? 'block' : 'none';\n",
              "\n",
              "        async function convertToInteractive(key) {\n",
              "          const element = document.querySelector('#df-4f7a3af3-d621-4eb3-912c-00c12f4dab20');\n",
              "          const dataTable =\n",
              "            await google.colab.kernel.invokeFunction('convertToInteractive',\n",
              "                                                     [key], {});\n",
              "          if (!dataTable) return;\n",
              "\n",
              "          const docLinkHtml = 'Like what you see? Visit the ' +\n",
              "            '<a target=\"_blank\" href=https://colab.research.google.com/notebooks/data_table.ipynb>data table notebook</a>'\n",
              "            + ' to learn more about interactive tables.';\n",
              "          element.innerHTML = '';\n",
              "          dataTable['output_type'] = 'display_data';\n",
              "          await google.colab.output.renderOutput(dataTable, element);\n",
              "          const docLink = document.createElement('div');\n",
              "          docLink.innerHTML = docLinkHtml;\n",
              "          element.appendChild(docLink);\n",
              "        }\n",
              "      </script>\n",
              "    </div>\n",
              "  </div>\n",
              "  "
            ],
            "text/plain": [
              "      IDEN  AGE  POIDS  TAILLE  ALCOOL  SEXE  INSOMNIE  TABAC  ECRAN\n",
              "0   ID_001   47     71     158       0     0         0      1   0.50\n",
              "1   ID_002   56     58     164       7     0         1      0   1.25\n",
              "2   id_003   46    116     208       3     0         0      1   1.75\n",
              "3   ID_004   70     96     186       3     0         0      1   1.00\n",
              "4   ID_005   51     91     195       2     0         1      1   1.75\n",
              "5   ID_006   46     98     188       0     1         0      0   3.25\n",
              "6   ID_007   40    112     193       5     0         0      1   3.75\n",
              "7   id_008   46     77     165       0     1         0      0   1.25\n",
              "8   ID_009   49     76     164       0     0         0      0   0.75\n",
              "9   ID_010   39    119     196       3     0         0      0   0.75\n",
              "10  ID_011   37     99     189       4     0         0      1   0.75\n",
              "11  ID_012   41    117     194       8     0         0      1   1.25\n",
              "12  ID_013   56     83     171       2     0         0      1   1.75\n",
              "13  ID_014   62     68     165       4     0         0      1   1.75\n",
              "14  ID_015   50    108     194      10     0         0      1   2.25\n",
              "15  ID_016   33     98     188       0     1         0      1   2.75\n",
              "16  ID_017   61     85     174       1     0         0      0   3.75\n",
              "17  ID_018   55     83     171      10     0         0      1   3.25\n",
              "18  ID_019   34     92     181       0     1         0      1   0.75\n",
              "19  ID_020   59     97     187       0     1         0      0   0.75"
            ]
          },
          "metadata": {},
          "execution_count": 118
        }
      ]
    },
    {
      "cell_type": "markdown",
      "metadata": {
        "id": "O4s8tsMSxzoG"
      },
      "source": [
        "3)Afficher les types des différentes colonnes du dataframe\n"
      ]
    },
    {
      "cell_type": "code",
      "metadata": {
        "id": "sDiJZJjQx6pY",
        "colab": {
          "base_uri": "https://localhost:8080/"
        },
        "outputId": "2ef9d5b1-3a65-413a-ed26-84632b76da9e"
      },
      "source": [
        "df.dtypes"
      ],
      "execution_count": 119,
      "outputs": [
        {
          "output_type": "execute_result",
          "data": {
            "text/plain": [
              "IDEN         object\n",
              "AGE           int64\n",
              "POIDS         int64\n",
              "TAILLE        int64\n",
              "ALCOOL        int64\n",
              "SEXE          int64\n",
              "INSOMNIE      int64\n",
              "TABAC         int64\n",
              "ECRAN       float64\n",
              "dtype: object"
            ]
          },
          "metadata": {},
          "execution_count": 119
        }
      ]
    },
    {
      "cell_type": "markdown",
      "metadata": {
        "id": "ZZyoUMrbyR83"
      },
      "source": [
        "\n",
        "4) Discretisez les valeurs des colones Age, Poids et ecran. Pour cela vous devez créer  trois nouvelles colonnes qu'on appellera respectivemebt : AGEQ, ¨POIDSQ et ECRANQ. On veut trois catégories d'age, trois catégories de poids et 4 catégories d'ecrans.\n"
      ]
    },
    {
      "cell_type": "code",
      "metadata": {
        "id": "ziRHqjhuysNR",
        "colab": {
          "base_uri": "https://localhost:8080/",
          "height": 206
        },
        "outputId": "1b98e1c5-2969-4a63-dfb1-cd2b29bf7ab2"
      },
      "source": [
        "df[\"AGEQ\"]=pd.qcut(df.AGE,3,labels=[\"Age1\",\"Age2\",\"Age3\"])\n",
        "df[\"POIDSQ\"]=pd.qcut(df.POIDS,3,labels=[\"Poids1\",\"Poids2\",\"Poids3\"])\n",
        "df[\"ECRANQ\"]=pd.qcut(df.ECRAN,4,labels=[\"Ecran1\",\"Ecran2\",\"Ecran3\", \"Ecran4\"])\n",
        "df.head()"
      ],
      "execution_count": 120,
      "outputs": [
        {
          "output_type": "execute_result",
          "data": {
            "text/html": [
              "\n",
              "  <div id=\"df-5dcaad06-278a-43c9-834d-60c01c9dd141\">\n",
              "    <div class=\"colab-df-container\">\n",
              "      <div>\n",
              "<style scoped>\n",
              "    .dataframe tbody tr th:only-of-type {\n",
              "        vertical-align: middle;\n",
              "    }\n",
              "\n",
              "    .dataframe tbody tr th {\n",
              "        vertical-align: top;\n",
              "    }\n",
              "\n",
              "    .dataframe thead th {\n",
              "        text-align: right;\n",
              "    }\n",
              "</style>\n",
              "<table border=\"1\" class=\"dataframe\">\n",
              "  <thead>\n",
              "    <tr style=\"text-align: right;\">\n",
              "      <th></th>\n",
              "      <th>IDEN</th>\n",
              "      <th>AGE</th>\n",
              "      <th>POIDS</th>\n",
              "      <th>TAILLE</th>\n",
              "      <th>ALCOOL</th>\n",
              "      <th>SEXE</th>\n",
              "      <th>INSOMNIE</th>\n",
              "      <th>TABAC</th>\n",
              "      <th>ECRAN</th>\n",
              "      <th>AGEQ</th>\n",
              "      <th>POIDSQ</th>\n",
              "      <th>ECRANQ</th>\n",
              "    </tr>\n",
              "  </thead>\n",
              "  <tbody>\n",
              "    <tr>\n",
              "      <th>0</th>\n",
              "      <td>ID_001</td>\n",
              "      <td>47</td>\n",
              "      <td>71</td>\n",
              "      <td>158</td>\n",
              "      <td>0</td>\n",
              "      <td>0</td>\n",
              "      <td>0</td>\n",
              "      <td>1</td>\n",
              "      <td>0.50</td>\n",
              "      <td>Age2</td>\n",
              "      <td>Poids1</td>\n",
              "      <td>Ecran1</td>\n",
              "    </tr>\n",
              "    <tr>\n",
              "      <th>1</th>\n",
              "      <td>ID_002</td>\n",
              "      <td>56</td>\n",
              "      <td>58</td>\n",
              "      <td>164</td>\n",
              "      <td>7</td>\n",
              "      <td>0</td>\n",
              "      <td>1</td>\n",
              "      <td>0</td>\n",
              "      <td>1.25</td>\n",
              "      <td>Age2</td>\n",
              "      <td>Poids1</td>\n",
              "      <td>Ecran2</td>\n",
              "    </tr>\n",
              "    <tr>\n",
              "      <th>2</th>\n",
              "      <td>id_003</td>\n",
              "      <td>46</td>\n",
              "      <td>116</td>\n",
              "      <td>208</td>\n",
              "      <td>3</td>\n",
              "      <td>0</td>\n",
              "      <td>0</td>\n",
              "      <td>1</td>\n",
              "      <td>1.75</td>\n",
              "      <td>Age1</td>\n",
              "      <td>Poids3</td>\n",
              "      <td>Ecran2</td>\n",
              "    </tr>\n",
              "    <tr>\n",
              "      <th>3</th>\n",
              "      <td>ID_004</td>\n",
              "      <td>70</td>\n",
              "      <td>96</td>\n",
              "      <td>186</td>\n",
              "      <td>3</td>\n",
              "      <td>0</td>\n",
              "      <td>0</td>\n",
              "      <td>1</td>\n",
              "      <td>1.00</td>\n",
              "      <td>Age3</td>\n",
              "      <td>Poids2</td>\n",
              "      <td>Ecran1</td>\n",
              "    </tr>\n",
              "    <tr>\n",
              "      <th>4</th>\n",
              "      <td>ID_005</td>\n",
              "      <td>51</td>\n",
              "      <td>91</td>\n",
              "      <td>195</td>\n",
              "      <td>2</td>\n",
              "      <td>0</td>\n",
              "      <td>1</td>\n",
              "      <td>1</td>\n",
              "      <td>1.75</td>\n",
              "      <td>Age2</td>\n",
              "      <td>Poids2</td>\n",
              "      <td>Ecran2</td>\n",
              "    </tr>\n",
              "  </tbody>\n",
              "</table>\n",
              "</div>\n",
              "      <button class=\"colab-df-convert\" onclick=\"convertToInteractive('df-5dcaad06-278a-43c9-834d-60c01c9dd141')\"\n",
              "              title=\"Convert this dataframe to an interactive table.\"\n",
              "              style=\"display:none;\">\n",
              "        \n",
              "  <svg xmlns=\"http://www.w3.org/2000/svg\" height=\"24px\"viewBox=\"0 0 24 24\"\n",
              "       width=\"24px\">\n",
              "    <path d=\"M0 0h24v24H0V0z\" fill=\"none\"/>\n",
              "    <path d=\"M18.56 5.44l.94 2.06.94-2.06 2.06-.94-2.06-.94-.94-2.06-.94 2.06-2.06.94zm-11 1L8.5 8.5l.94-2.06 2.06-.94-2.06-.94L8.5 2.5l-.94 2.06-2.06.94zm10 10l.94 2.06.94-2.06 2.06-.94-2.06-.94-.94-2.06-.94 2.06-2.06.94z\"/><path d=\"M17.41 7.96l-1.37-1.37c-.4-.4-.92-.59-1.43-.59-.52 0-1.04.2-1.43.59L10.3 9.45l-7.72 7.72c-.78.78-.78 2.05 0 2.83L4 21.41c.39.39.9.59 1.41.59.51 0 1.02-.2 1.41-.59l7.78-7.78 2.81-2.81c.8-.78.8-2.07 0-2.86zM5.41 20L4 18.59l7.72-7.72 1.47 1.35L5.41 20z\"/>\n",
              "  </svg>\n",
              "      </button>\n",
              "      \n",
              "  <style>\n",
              "    .colab-df-container {\n",
              "      display:flex;\n",
              "      flex-wrap:wrap;\n",
              "      gap: 12px;\n",
              "    }\n",
              "\n",
              "    .colab-df-convert {\n",
              "      background-color: #E8F0FE;\n",
              "      border: none;\n",
              "      border-radius: 50%;\n",
              "      cursor: pointer;\n",
              "      display: none;\n",
              "      fill: #1967D2;\n",
              "      height: 32px;\n",
              "      padding: 0 0 0 0;\n",
              "      width: 32px;\n",
              "    }\n",
              "\n",
              "    .colab-df-convert:hover {\n",
              "      background-color: #E2EBFA;\n",
              "      box-shadow: 0px 1px 2px rgba(60, 64, 67, 0.3), 0px 1px 3px 1px rgba(60, 64, 67, 0.15);\n",
              "      fill: #174EA6;\n",
              "    }\n",
              "\n",
              "    [theme=dark] .colab-df-convert {\n",
              "      background-color: #3B4455;\n",
              "      fill: #D2E3FC;\n",
              "    }\n",
              "\n",
              "    [theme=dark] .colab-df-convert:hover {\n",
              "      background-color: #434B5C;\n",
              "      box-shadow: 0px 1px 3px 1px rgba(0, 0, 0, 0.15);\n",
              "      filter: drop-shadow(0px 1px 2px rgba(0, 0, 0, 0.3));\n",
              "      fill: #FFFFFF;\n",
              "    }\n",
              "  </style>\n",
              "\n",
              "      <script>\n",
              "        const buttonEl =\n",
              "          document.querySelector('#df-5dcaad06-278a-43c9-834d-60c01c9dd141 button.colab-df-convert');\n",
              "        buttonEl.style.display =\n",
              "          google.colab.kernel.accessAllowed ? 'block' : 'none';\n",
              "\n",
              "        async function convertToInteractive(key) {\n",
              "          const element = document.querySelector('#df-5dcaad06-278a-43c9-834d-60c01c9dd141');\n",
              "          const dataTable =\n",
              "            await google.colab.kernel.invokeFunction('convertToInteractive',\n",
              "                                                     [key], {});\n",
              "          if (!dataTable) return;\n",
              "\n",
              "          const docLinkHtml = 'Like what you see? Visit the ' +\n",
              "            '<a target=\"_blank\" href=https://colab.research.google.com/notebooks/data_table.ipynb>data table notebook</a>'\n",
              "            + ' to learn more about interactive tables.';\n",
              "          element.innerHTML = '';\n",
              "          dataTable['output_type'] = 'display_data';\n",
              "          await google.colab.output.renderOutput(dataTable, element);\n",
              "          const docLink = document.createElement('div');\n",
              "          docLink.innerHTML = docLinkHtml;\n",
              "          element.appendChild(docLink);\n",
              "        }\n",
              "      </script>\n",
              "    </div>\n",
              "  </div>\n",
              "  "
            ],
            "text/plain": [
              "     IDEN  AGE  POIDS  TAILLE  ALCOOL  ...  TABAC  ECRAN  AGEQ  POIDSQ  ECRANQ\n",
              "0  ID_001   47     71     158       0  ...      1   0.50  Age2  Poids1  Ecran1\n",
              "1  ID_002   56     58     164       7  ...      0   1.25  Age2  Poids1  Ecran2\n",
              "2  id_003   46    116     208       3  ...      1   1.75  Age1  Poids3  Ecran2\n",
              "3  ID_004   70     96     186       3  ...      1   1.00  Age3  Poids2  Ecran1\n",
              "4  ID_005   51     91     195       2  ...      1   1.75  Age2  Poids2  Ecran2\n",
              "\n",
              "[5 rows x 12 columns]"
            ]
          },
          "metadata": {},
          "execution_count": 120
        }
      ]
    },
    {
      "cell_type": "markdown",
      "metadata": {
        "id": "10_AzeWt4dDW"
      },
      "source": [
        "5) Afficher la distribution statistique  des valeurs pour une des trois colonnes que vous venez de créer: nombre de valeurs, nombre de valeurs uniques, la valeur la plus représentée, etc. "
      ]
    },
    {
      "cell_type": "code",
      "metadata": {
        "id": "qkZwHnMD4_3F",
        "colab": {
          "base_uri": "https://localhost:8080/"
        },
        "outputId": "96f80daf-fb21-41c1-a751-9a366b7bcfa0"
      },
      "source": [
        "df['AGEQ'].describe()"
      ],
      "execution_count": 121,
      "outputs": [
        {
          "output_type": "execute_result",
          "data": {
            "text/plain": [
              "count      100\n",
              "unique       3\n",
              "top       Age1\n",
              "freq        37\n",
              "Name: AGEQ, dtype: object"
            ]
          },
          "metadata": {},
          "execution_count": 121
        }
      ]
    },
    {
      "cell_type": "markdown",
      "metadata": {
        "id": "M5r0CmZk0-KZ"
      },
      "source": [
        "6)En réalité nous voudrions que tous les champs (sauf le champ IDEN) soient des catégories. Nous aimerions également que les catégories Age, Taille, Poids, Alcool et ECRAN soient ordinales. Ecrire le code pour ce faire puis afficher les nouveaux types ainsi obtenus."
      ]
    },
    {
      "cell_type": "code",
      "metadata": {
        "id": "9NfGkRL01C0f",
        "colab": {
          "base_uri": "https://localhost:8080/"
        },
        "outputId": "747fcc53-a3be-495f-b4a2-4103ebd4c461"
      },
      "source": [
        "df[\"AGE\"] = pd.Categorical(df[\"AGE\"],ordered = True)\n",
        "df[\"TAILLE\"] = pd.Categorical(df[\"TAILLE\"],ordered = True)\n",
        "df[\"POIDS\"] = pd.Categorical(df[\"POIDS\"],ordered = True)\n",
        "df[\"ALCOOL\"] = pd.Categorical(df[\"ALCOOL\"],ordered = True)\n",
        "df[\"ECRAN\"] = pd.Categorical(df[\"ECRAN\"],ordered = True)\n",
        "df[\"SEXE\"] = pd.Categorical(df[\"SEXE\"],ordered = False)\n",
        "df[\"INSOMNIE\"] = pd.Categorical(df[\"INSOMNIE\"],ordered = False)\n",
        "df[\"TABAC\"] = pd.Categorical(df[\"TABAC\"],ordered = False)\n",
        "df.dtypes"
      ],
      "execution_count": 122,
      "outputs": [
        {
          "output_type": "execute_result",
          "data": {
            "text/plain": [
              "IDEN          object\n",
              "AGE         category\n",
              "POIDS       category\n",
              "TAILLE      category\n",
              "ALCOOL      category\n",
              "SEXE        category\n",
              "INSOMNIE    category\n",
              "TABAC       category\n",
              "ECRAN       category\n",
              "AGEQ        category\n",
              "POIDSQ      category\n",
              "ECRANQ      category\n",
              "dtype: object"
            ]
          },
          "metadata": {},
          "execution_count": 122
        }
      ]
    },
    {
      "cell_type": "markdown",
      "metadata": {
        "id": "G7LJGdvi5hqu"
      },
      "source": [
        "7)En utilisant la méthode naive bayésienne : créer un modèle de prédiction qui permet de prédire les insomnies étant donnée l'age, le poids, la taille, la consommation d'alcool et de tabac ainsi que l'utilisation des écrans. Attention pour cette question nous voulons utiliser les valeurs numériques des poids, age et ecran et non les catégories que nous avions créées dans kla question 4.  Vous devez entre autres :\n",
        "\n",
        "  a)Proiduire un ensemble des X =[AGE, POIDS, TAILLE, ALCOOL, SEXE, TABAC,ECRAN] et un ensemble Y=[INSOMNIE]\n",
        "\n",
        "  b)décomposer X et Y en 4 sous ensembles : 2 sous ensemlbes respoectifs de X et Y  pour l'entrainement contenant 80% des lignes et deux sous-ensembles pour le test contenant 20% des lignes.\n",
        "\n",
        "  c)Entrainer votre modèle\n",
        "  \n",
        "  d)calculer les mesures de performance incluant :\n",
        "     -l'Accuracy\n",
        "     -la matrice de confusion"
      ]
    },
    {
      "cell_type": "code",
      "metadata": {
        "id": "M7JuU5ND8MEX"
      },
      "source": [
        "#a) Produire X et Y:\n",
        "X = ['AGE', 'POIDS', 'TAILLE', 'ALCOOL', 'SEXE', 'TABAC', 'ECRAN']\n",
        "X = df[X]\n",
        "\n",
        "Y = ['INSOMNIE']\n",
        "Y = df[Y]\n",
        "\n",
        "#b)décomposer X et Y en train et test:\n",
        "X_train, X_test, y_train, y_test = train_test_split(X, Y, train_size = 0.8)"
      ],
      "execution_count": 123,
      "outputs": []
    },
    {
      "cell_type": "code",
      "source": [
        "#Création du modél utilisant la méthode naive bayésienne (GuassianNB)\n",
        "model = GaussianNB()"
      ],
      "metadata": {
        "id": "L9x6WytmqrMb"
      },
      "execution_count": 124,
      "outputs": []
    },
    {
      "cell_type": "code",
      "source": [
        "#c)Entrainement du modèle, et faire de la prédiction:\n",
        "model.fit(X_train, y_train)\n",
        "y_pred = model.predict(X_test)"
      ],
      "metadata": {
        "colab": {
          "base_uri": "https://localhost:8080/"
        },
        "id": "gUKaR96VxZl-",
        "outputId": "65de3a17-a01d-4c8a-c05c-48e30589075e"
      },
      "execution_count": 125,
      "outputs": [
        {
          "output_type": "stream",
          "name": "stderr",
          "text": [
            "/usr/local/lib/python3.7/dist-packages/sklearn/utils/validation.py:993: DataConversionWarning: A column-vector y was passed when a 1d array was expected. Please change the shape of y to (n_samples, ), for example using ravel().\n",
            "  y = column_or_1d(y, warn=True)\n"
          ]
        }
      ]
    },
    {
      "cell_type": "code",
      "source": [
        "#d) Les mesures de performances:\n",
        "accuracy_NB = metrics.accuracy_score(y_test, y_pred)\n",
        "print(\"La précision du model en utilissant la méthode naive bayésienne est: \",accuracy_NB)"
      ],
      "metadata": {
        "colab": {
          "base_uri": "https://localhost:8080/"
        },
        "id": "z5go2gyWxZvV",
        "outputId": "fd762dda-ec0e-4ca7-ea1c-203d2ccfa8a9"
      },
      "execution_count": 126,
      "outputs": [
        {
          "output_type": "stream",
          "name": "stdout",
          "text": [
            "La précision du model en utilissant la méthode naive bayésienne est:  0.5\n"
          ]
        }
      ]
    },
    {
      "cell_type": "code",
      "source": [
        "#La matrice de confusion:\n",
        "cm = confusion_matrix(y_test, y_pred)\n",
        "cm"
      ],
      "metadata": {
        "colab": {
          "base_uri": "https://localhost:8080/"
        },
        "id": "Rw63a8OCxZyU",
        "outputId": "cb4e8b90-f6c6-4fb7-f9d0-b25203a603c9"
      },
      "execution_count": 127,
      "outputs": [
        {
          "output_type": "execute_result",
          "data": {
            "text/plain": [
              "array([[8, 2],\n",
              "       [8, 2]])"
            ]
          },
          "metadata": {},
          "execution_count": 127
        }
      ]
    },
    {
      "cell_type": "code",
      "source": [
        "#Visualisation du matrice de confusion\n",
        "plt.figure(figsize = (10, 7))\n",
        "sns.heatmap(cm, annot = True)\n",
        "plt.xlabel('Predicted')\n",
        "plt.ylabel('Truth')"
      ],
      "metadata": {
        "colab": {
          "base_uri": "https://localhost:8080/",
          "height": 465
        },
        "id": "Q2I0xkzwxiaY",
        "outputId": "7059acdf-c818-46b3-adc1-726c50b347c3"
      },
      "execution_count": 128,
      "outputs": [
        {
          "output_type": "execute_result",
          "data": {
            "text/plain": [
              "Text(69.0, 0.5, 'Truth')"
            ]
          },
          "metadata": {},
          "execution_count": 128
        },
        {
          "output_type": "display_data",
          "data": {
            "image/png": "[encoded data removed]",
            "text/plain": [
              "<Figure size 720x504 with 2 Axes>"
            ]
          },
          "metadata": {
            "needs_background": "light"
          }
        }
      ]
    },
    {
      "cell_type": "code",
      "source": [
        "#Interprétation \n",
        "plt.figure(figsize = (10, 7))\n",
        "labels = ['True Neg','False Pos','False Neg','True Pos']\n",
        "labels = np.asarray(labels).reshape(2,2)\n",
        "sns.heatmap(cm, annot=labels, fmt='', cmap='Blues')"
      ],
      "metadata": {
        "colab": {
          "base_uri": "https://localhost:8080/",
          "height": 451
        },
        "id": "X7qzFz7JxP8O",
        "outputId": "15465aea-2214-498e-a4ee-1b39c59929d9"
      },
      "execution_count": 129,
      "outputs": [
        {
          "output_type": "execute_result",
          "data": {
            "text/plain": [
              "<matplotlib.axes._subplots.AxesSubplot at 0x7fd17f5b48d0>"
            ]
          },
          "metadata": {},
          "execution_count": 129
        },
        {
          "output_type": "display_data",
          "data": {
            "image/png": "[encoded data removed]",
            "text/plain": [
              "<Figure size 720x504 with 2 Axes>"
            ]
          },
          "metadata": {
            "needs_background": "light"
          }
        }
      ]
    },
    {
      "cell_type": "markdown",
      "metadata": {
        "id": "M_YC9vbG8OI9"
      },
      "source": [
        "8)Refaire la même question mais en utilisant cette fois-ci, une méthode à base de Support Vector Machine."
      ]
    },
    {
      "cell_type": "code",
      "metadata": {
        "id": "GzJbyeSC3uJV"
      },
      "source": [
        "#Création du modél utilisant la méthode de Support Vector Machine\n",
        "model_svm = svm.SVC()"
      ],
      "execution_count": 130,
      "outputs": []
    },
    {
      "cell_type": "code",
      "source": [
        "#c)Entrainement du modèle et faire de la prédiction:\n",
        "model_svm.fit(X_train, y_train)\n",
        "y_pred_SVM = model.predict(X_test)"
      ],
      "metadata": {
        "colab": {
          "base_uri": "https://localhost:8080/"
        },
        "id": "pi4pmYc8vJC6",
        "outputId": "624518a9-876f-4e2c-802d-110b53e69840"
      },
      "execution_count": 131,
      "outputs": [
        {
          "output_type": "stream",
          "name": "stderr",
          "text": [
            "/usr/local/lib/python3.7/dist-packages/sklearn/utils/validation.py:993: DataConversionWarning: A column-vector y was passed when a 1d array was expected. Please change the shape of y to (n_samples, ), for example using ravel().\n",
            "  y = column_or_1d(y, warn=True)\n"
          ]
        }
      ]
    },
    {
      "cell_type": "code",
      "source": [
        "#d) Les mesures de performances:\n",
        "accuracy_SVM = metrics.accuracy_score(y_test, y_pred_svm)\n",
        "print(\"La précision du model en utilissant la méthode naive bayésienne est: \",accuracy_SVM)\n"
      ],
      "metadata": {
        "colab": {
          "base_uri": "https://localhost:8080/"
        },
        "id": "WgFIyHElvL3S",
        "outputId": "cb5e7ca7-897b-4483-bca2-370e3867e693"
      },
      "execution_count": 132,
      "outputs": [
        {
          "output_type": "stream",
          "name": "stdout",
          "text": [
            "La précision du model en utilissant la méthode naive bayésienne est:  0.6\n"
          ]
        }
      ]
    },
    {
      "cell_type": "code",
      "source": [
        "#La matrice de confusion:\n",
        "cm = confusion_matrix(y_test, y_pred_SVM)\n",
        "cm"
      ],
      "metadata": {
        "colab": {
          "base_uri": "https://localhost:8080/"
        },
        "id": "lIx5OpoEvPcJ",
        "outputId": "6d26936e-5261-420d-b477-737a820c661d"
      },
      "execution_count": 133,
      "outputs": [
        {
          "output_type": "execute_result",
          "data": {
            "text/plain": [
              "array([[8, 2],\n",
              "       [8, 2]])"
            ]
          },
          "metadata": {},
          "execution_count": 133
        }
      ]
    },
    {
      "cell_type": "code",
      "source": [
        "#Visualisation du matrice de confusion\n",
        "plt.figure(figsize = (10, 7))\n",
        "sns.heatmap(cm, annot = True)\n",
        "plt.xlabel('Predicted')\n",
        "plt.ylabel('Truth')"
      ],
      "metadata": {
        "colab": {
          "base_uri": "https://localhost:8080/",
          "height": 465
        },
        "id": "592HGMUivXg9",
        "outputId": "4ecc6b33-93aa-4202-8a31-3010ecbbcb9a"
      },
      "execution_count": 134,
      "outputs": [
        {
          "output_type": "execute_result",
          "data": {
            "text/plain": [
              "Text(69.0, 0.5, 'Truth')"
            ]
          },
          "metadata": {},
          "execution_count": 134
        },
        {
          "output_type": "display_data",
          "data": {
            "image/png": "[encoded data removed]",
            "text/plain": [
              "<Figure size 720x504 with 2 Axes>"
            ]
          },
          "metadata": {
            "needs_background": "light"
          }
        }
      ]
    },
    {
      "cell_type": "code",
      "source": [
        "#Interprétation \n",
        "plt.figure(figsize = (10, 7))\n",
        "labels = ['True Neg','False Pos','False Neg','True Pos']\n",
        "labels = np.asarray(labels).reshape(2,2)\n",
        "sns.heatmap(cm, annot=labels, fmt='', cmap='Blues')"
      ],
      "metadata": {
        "colab": {
          "base_uri": "https://localhost:8080/",
          "height": 451
        },
        "id": "-QoJPrv9vy9q",
        "outputId": "32b2fd4a-7f17-4f86-ec5b-7773eeb9b279"
      },
      "execution_count": 135,
      "outputs": [
        {
          "output_type": "execute_result",
          "data": {
            "text/plain": [
              "<matplotlib.axes._subplots.AxesSubplot at 0x7fd17f462d10>"
            ]
          },
          "metadata": {},
          "execution_count": 135
        },
        {
          "output_type": "display_data",
          "data": {
            "image/png": "[encoded data removed]",
            "text/plain": [
              "<Figure size 720x504 with 2 Axes>"
            ]
          },
          "metadata": {
            "needs_background": "light"
          }
        }
      ]
    },
    {
      "cell_type": "markdown",
      "metadata": {
        "id": "xz_TaJ9q8a8M"
      },
      "source": [
        "9) Ecrire le code qui permet de trouver le meilleur algorithme parmi : Regression Logiqtique, Naive Byésien, Support Vector MAchine (SVC)."
      ]
    },
    {
      "cell_type": "code",
      "metadata": {
        "id": "WEPUyt-C9JDQ"
      },
      "source": [
        ""
      ],
      "execution_count": 135,
      "outputs": []
    }
  ]
}